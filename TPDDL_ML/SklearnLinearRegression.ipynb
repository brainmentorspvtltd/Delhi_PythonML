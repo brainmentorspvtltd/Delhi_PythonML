{
 "cells": [
  {
   "cell_type": "code",
   "execution_count": 1,
   "metadata": {},
   "outputs": [],
   "source": [
    "import pandas as pd\n",
    "import numpy as np\n",
    "from sklearn.model_selection import train_test_split\n",
    "from sklearn.preprocessing import MinMaxScaler, LabelEncoder, OneHotEncoder\n",
    "from sklearn.linear_model import LinearRegression\n",
    "from sklearn.metrics import mean_squared_error, r2_score"
   ]
  },
  {
   "cell_type": "code",
   "execution_count": 50,
   "metadata": {},
   "outputs": [],
   "source": [
    "df = pd.read_csv('SaratogaHouses.csv')"
   ]
  },
  {
   "cell_type": "code",
   "execution_count": 51,
   "metadata": {},
   "outputs": [
    {
     "data": {
      "text/html": [
       "<div>\n",
       "<style scoped>\n",
       "    .dataframe tbody tr th:only-of-type {\n",
       "        vertical-align: middle;\n",
       "    }\n",
       "\n",
       "    .dataframe tbody tr th {\n",
       "        vertical-align: top;\n",
       "    }\n",
       "\n",
       "    .dataframe thead th {\n",
       "        text-align: right;\n",
       "    }\n",
       "</style>\n",
       "<table border=\"1\" class=\"dataframe\">\n",
       "  <thead>\n",
       "    <tr style=\"text-align: right;\">\n",
       "      <th></th>\n",
       "      <th>Unnamed: 0</th>\n",
       "      <th>price</th>\n",
       "      <th>lotSize</th>\n",
       "      <th>age</th>\n",
       "      <th>landValue</th>\n",
       "      <th>livingArea</th>\n",
       "      <th>pctCollege</th>\n",
       "      <th>bedrooms</th>\n",
       "      <th>fireplaces</th>\n",
       "      <th>bathrooms</th>\n",
       "      <th>rooms</th>\n",
       "      <th>heating</th>\n",
       "      <th>fuel</th>\n",
       "      <th>sewer</th>\n",
       "      <th>waterfront</th>\n",
       "      <th>newConstruction</th>\n",
       "      <th>centralAir</th>\n",
       "    </tr>\n",
       "  </thead>\n",
       "  <tbody>\n",
       "    <tr>\n",
       "      <th>0</th>\n",
       "      <td>1</td>\n",
       "      <td>132500</td>\n",
       "      <td>0.09</td>\n",
       "      <td>42</td>\n",
       "      <td>50000</td>\n",
       "      <td>906</td>\n",
       "      <td>35</td>\n",
       "      <td>2</td>\n",
       "      <td>1</td>\n",
       "      <td>1.0</td>\n",
       "      <td>5</td>\n",
       "      <td>electric</td>\n",
       "      <td>electric</td>\n",
       "      <td>septic</td>\n",
       "      <td>No</td>\n",
       "      <td>No</td>\n",
       "      <td>No</td>\n",
       "    </tr>\n",
       "    <tr>\n",
       "      <th>1</th>\n",
       "      <td>2</td>\n",
       "      <td>181115</td>\n",
       "      <td>0.92</td>\n",
       "      <td>0</td>\n",
       "      <td>22300</td>\n",
       "      <td>1953</td>\n",
       "      <td>51</td>\n",
       "      <td>3</td>\n",
       "      <td>0</td>\n",
       "      <td>2.5</td>\n",
       "      <td>6</td>\n",
       "      <td>hot water/steam</td>\n",
       "      <td>gas</td>\n",
       "      <td>septic</td>\n",
       "      <td>No</td>\n",
       "      <td>No</td>\n",
       "      <td>No</td>\n",
       "    </tr>\n",
       "    <tr>\n",
       "      <th>2</th>\n",
       "      <td>3</td>\n",
       "      <td>109000</td>\n",
       "      <td>0.19</td>\n",
       "      <td>133</td>\n",
       "      <td>7300</td>\n",
       "      <td>1944</td>\n",
       "      <td>51</td>\n",
       "      <td>4</td>\n",
       "      <td>1</td>\n",
       "      <td>1.0</td>\n",
       "      <td>8</td>\n",
       "      <td>hot water/steam</td>\n",
       "      <td>gas</td>\n",
       "      <td>public/commercial</td>\n",
       "      <td>No</td>\n",
       "      <td>No</td>\n",
       "      <td>No</td>\n",
       "    </tr>\n",
       "    <tr>\n",
       "      <th>3</th>\n",
       "      <td>4</td>\n",
       "      <td>155000</td>\n",
       "      <td>0.41</td>\n",
       "      <td>13</td>\n",
       "      <td>18700</td>\n",
       "      <td>1944</td>\n",
       "      <td>51</td>\n",
       "      <td>3</td>\n",
       "      <td>1</td>\n",
       "      <td>1.5</td>\n",
       "      <td>5</td>\n",
       "      <td>hot air</td>\n",
       "      <td>gas</td>\n",
       "      <td>septic</td>\n",
       "      <td>No</td>\n",
       "      <td>No</td>\n",
       "      <td>No</td>\n",
       "    </tr>\n",
       "    <tr>\n",
       "      <th>4</th>\n",
       "      <td>5</td>\n",
       "      <td>86060</td>\n",
       "      <td>0.11</td>\n",
       "      <td>0</td>\n",
       "      <td>15000</td>\n",
       "      <td>840</td>\n",
       "      <td>51</td>\n",
       "      <td>2</td>\n",
       "      <td>0</td>\n",
       "      <td>1.0</td>\n",
       "      <td>3</td>\n",
       "      <td>hot air</td>\n",
       "      <td>gas</td>\n",
       "      <td>public/commercial</td>\n",
       "      <td>No</td>\n",
       "      <td>Yes</td>\n",
       "      <td>Yes</td>\n",
       "    </tr>\n",
       "  </tbody>\n",
       "</table>\n",
       "</div>"
      ],
      "text/plain": [
       "   Unnamed: 0   price  lotSize  age  landValue  livingArea  pctCollege  \\\n",
       "0           1  132500     0.09   42      50000         906          35   \n",
       "1           2  181115     0.92    0      22300        1953          51   \n",
       "2           3  109000     0.19  133       7300        1944          51   \n",
       "3           4  155000     0.41   13      18700        1944          51   \n",
       "4           5   86060     0.11    0      15000         840          51   \n",
       "\n",
       "   bedrooms  fireplaces  bathrooms  rooms          heating      fuel  \\\n",
       "0         2           1        1.0      5         electric  electric   \n",
       "1         3           0        2.5      6  hot water/steam       gas   \n",
       "2         4           1        1.0      8  hot water/steam       gas   \n",
       "3         3           1        1.5      5          hot air       gas   \n",
       "4         2           0        1.0      3          hot air       gas   \n",
       "\n",
       "               sewer waterfront newConstruction centralAir  \n",
       "0             septic         No              No         No  \n",
       "1             septic         No              No         No  \n",
       "2  public/commercial         No              No         No  \n",
       "3             septic         No              No         No  \n",
       "4  public/commercial         No             Yes        Yes  "
      ]
     },
     "execution_count": 51,
     "metadata": {},
     "output_type": "execute_result"
    }
   ],
   "source": [
    "df.head()"
   ]
  },
  {
   "cell_type": "code",
   "execution_count": 52,
   "metadata": {},
   "outputs": [
    {
     "data": {
      "text/plain": [
       "array(['electric', 'hot water/steam', 'hot air'], dtype=object)"
      ]
     },
     "execution_count": 52,
     "metadata": {},
     "output_type": "execute_result"
    }
   ],
   "source": [
    "pd.unique(df['heating'])"
   ]
  },
  {
   "cell_type": "code",
   "execution_count": 53,
   "metadata": {},
   "outputs": [
    {
     "data": {
      "text/plain": [
       "array(['No', 'Yes'], dtype=object)"
      ]
     },
     "execution_count": 53,
     "metadata": {},
     "output_type": "execute_result"
    }
   ],
   "source": [
    "pd.unique(df['newConstruction'])"
   ]
  },
  {
   "cell_type": "code",
   "execution_count": 54,
   "metadata": {},
   "outputs": [
    {
     "data": {
      "text/plain": [
       "array(['septic', 'public/commercial', 'none'], dtype=object)"
      ]
     },
     "execution_count": 54,
     "metadata": {},
     "output_type": "execute_result"
    }
   ],
   "source": [
    "pd.unique(df['sewer'])"
   ]
  },
  {
   "cell_type": "code",
   "execution_count": 55,
   "metadata": {},
   "outputs": [
    {
     "data": {
      "text/plain": [
       "array(['electric', 'gas', 'oil'], dtype=object)"
      ]
     },
     "execution_count": 55,
     "metadata": {},
     "output_type": "execute_result"
    }
   ],
   "source": [
    "pd.unique(df['fuel'])"
   ]
  },
  {
   "cell_type": "code",
   "execution_count": 56,
   "metadata": {},
   "outputs": [],
   "source": [
    "lab = LabelEncoder()\n",
    "df['newConstruction'] = lab.fit_transform(df['newConstruction'])\n",
    "df['centralAir'] = lab.fit_transform(df['centralAir'])\n",
    "df['waterfront'] = lab.fit_transform(df['waterfront'])"
   ]
  },
  {
   "cell_type": "code",
   "execution_count": 57,
   "metadata": {},
   "outputs": [
    {
     "data": {
      "text/html": [
       "<div>\n",
       "<style scoped>\n",
       "    .dataframe tbody tr th:only-of-type {\n",
       "        vertical-align: middle;\n",
       "    }\n",
       "\n",
       "    .dataframe tbody tr th {\n",
       "        vertical-align: top;\n",
       "    }\n",
       "\n",
       "    .dataframe thead th {\n",
       "        text-align: right;\n",
       "    }\n",
       "</style>\n",
       "<table border=\"1\" class=\"dataframe\">\n",
       "  <thead>\n",
       "    <tr style=\"text-align: right;\">\n",
       "      <th></th>\n",
       "      <th>Unnamed: 0</th>\n",
       "      <th>price</th>\n",
       "      <th>lotSize</th>\n",
       "      <th>age</th>\n",
       "      <th>landValue</th>\n",
       "      <th>livingArea</th>\n",
       "      <th>pctCollege</th>\n",
       "      <th>bedrooms</th>\n",
       "      <th>fireplaces</th>\n",
       "      <th>bathrooms</th>\n",
       "      <th>rooms</th>\n",
       "      <th>heating</th>\n",
       "      <th>fuel</th>\n",
       "      <th>sewer</th>\n",
       "      <th>waterfront</th>\n",
       "      <th>newConstruction</th>\n",
       "      <th>centralAir</th>\n",
       "    </tr>\n",
       "  </thead>\n",
       "  <tbody>\n",
       "    <tr>\n",
       "      <th>0</th>\n",
       "      <td>1</td>\n",
       "      <td>132500</td>\n",
       "      <td>0.09</td>\n",
       "      <td>42</td>\n",
       "      <td>50000</td>\n",
       "      <td>906</td>\n",
       "      <td>35</td>\n",
       "      <td>2</td>\n",
       "      <td>1</td>\n",
       "      <td>1.0</td>\n",
       "      <td>5</td>\n",
       "      <td>electric</td>\n",
       "      <td>electric</td>\n",
       "      <td>septic</td>\n",
       "      <td>0</td>\n",
       "      <td>0</td>\n",
       "      <td>0</td>\n",
       "    </tr>\n",
       "    <tr>\n",
       "      <th>1</th>\n",
       "      <td>2</td>\n",
       "      <td>181115</td>\n",
       "      <td>0.92</td>\n",
       "      <td>0</td>\n",
       "      <td>22300</td>\n",
       "      <td>1953</td>\n",
       "      <td>51</td>\n",
       "      <td>3</td>\n",
       "      <td>0</td>\n",
       "      <td>2.5</td>\n",
       "      <td>6</td>\n",
       "      <td>hot water/steam</td>\n",
       "      <td>gas</td>\n",
       "      <td>septic</td>\n",
       "      <td>0</td>\n",
       "      <td>0</td>\n",
       "      <td>0</td>\n",
       "    </tr>\n",
       "    <tr>\n",
       "      <th>2</th>\n",
       "      <td>3</td>\n",
       "      <td>109000</td>\n",
       "      <td>0.19</td>\n",
       "      <td>133</td>\n",
       "      <td>7300</td>\n",
       "      <td>1944</td>\n",
       "      <td>51</td>\n",
       "      <td>4</td>\n",
       "      <td>1</td>\n",
       "      <td>1.0</td>\n",
       "      <td>8</td>\n",
       "      <td>hot water/steam</td>\n",
       "      <td>gas</td>\n",
       "      <td>public/commercial</td>\n",
       "      <td>0</td>\n",
       "      <td>0</td>\n",
       "      <td>0</td>\n",
       "    </tr>\n",
       "    <tr>\n",
       "      <th>3</th>\n",
       "      <td>4</td>\n",
       "      <td>155000</td>\n",
       "      <td>0.41</td>\n",
       "      <td>13</td>\n",
       "      <td>18700</td>\n",
       "      <td>1944</td>\n",
       "      <td>51</td>\n",
       "      <td>3</td>\n",
       "      <td>1</td>\n",
       "      <td>1.5</td>\n",
       "      <td>5</td>\n",
       "      <td>hot air</td>\n",
       "      <td>gas</td>\n",
       "      <td>septic</td>\n",
       "      <td>0</td>\n",
       "      <td>0</td>\n",
       "      <td>0</td>\n",
       "    </tr>\n",
       "    <tr>\n",
       "      <th>4</th>\n",
       "      <td>5</td>\n",
       "      <td>86060</td>\n",
       "      <td>0.11</td>\n",
       "      <td>0</td>\n",
       "      <td>15000</td>\n",
       "      <td>840</td>\n",
       "      <td>51</td>\n",
       "      <td>2</td>\n",
       "      <td>0</td>\n",
       "      <td>1.0</td>\n",
       "      <td>3</td>\n",
       "      <td>hot air</td>\n",
       "      <td>gas</td>\n",
       "      <td>public/commercial</td>\n",
       "      <td>0</td>\n",
       "      <td>1</td>\n",
       "      <td>1</td>\n",
       "    </tr>\n",
       "  </tbody>\n",
       "</table>\n",
       "</div>"
      ],
      "text/plain": [
       "   Unnamed: 0   price  lotSize  age  landValue  livingArea  pctCollege  \\\n",
       "0           1  132500     0.09   42      50000         906          35   \n",
       "1           2  181115     0.92    0      22300        1953          51   \n",
       "2           3  109000     0.19  133       7300        1944          51   \n",
       "3           4  155000     0.41   13      18700        1944          51   \n",
       "4           5   86060     0.11    0      15000         840          51   \n",
       "\n",
       "   bedrooms  fireplaces  bathrooms  rooms          heating      fuel  \\\n",
       "0         2           1        1.0      5         electric  electric   \n",
       "1         3           0        2.5      6  hot water/steam       gas   \n",
       "2         4           1        1.0      8  hot water/steam       gas   \n",
       "3         3           1        1.5      5          hot air       gas   \n",
       "4         2           0        1.0      3          hot air       gas   \n",
       "\n",
       "               sewer  waterfront  newConstruction  centralAir  \n",
       "0             septic           0                0           0  \n",
       "1             septic           0                0           0  \n",
       "2  public/commercial           0                0           0  \n",
       "3             septic           0                0           0  \n",
       "4  public/commercial           0                1           1  "
      ]
     },
     "execution_count": 57,
     "metadata": {},
     "output_type": "execute_result"
    }
   ],
   "source": [
    "df.head()"
   ]
  },
  {
   "cell_type": "code",
   "execution_count": 58,
   "metadata": {},
   "outputs": [],
   "source": [
    "sewer = df[['sewer']]\n",
    "fuel = df[['fuel']]\n",
    "heating = df[['heating']]"
   ]
  },
  {
   "cell_type": "code",
   "execution_count": 59,
   "metadata": {},
   "outputs": [],
   "source": [
    "# df[['price']]"
   ]
  },
  {
   "cell_type": "code",
   "execution_count": 60,
   "metadata": {},
   "outputs": [],
   "source": [
    "sewer_onehot = OneHotEncoder()\n",
    "sewer = sewer_onehot.fit_transform(sewer)"
   ]
  },
  {
   "cell_type": "code",
   "execution_count": 61,
   "metadata": {},
   "outputs": [],
   "source": [
    "fuel_onehot = OneHotEncoder()\n",
    "fuel = fuel_onehot.fit_transform(fuel)"
   ]
  },
  {
   "cell_type": "code",
   "execution_count": 62,
   "metadata": {},
   "outputs": [],
   "source": [
    "heat_onehot = OneHotEncoder()\n",
    "heating = heat_onehot.fit_transform(heating)"
   ]
  },
  {
   "cell_type": "code",
   "execution_count": 63,
   "metadata": {},
   "outputs": [
    {
     "data": {
      "text/plain": [
       "<1728x3 sparse matrix of type '<class 'numpy.float64'>'\n",
       "\twith 1728 stored elements in Compressed Sparse Row format>"
      ]
     },
     "execution_count": 63,
     "metadata": {},
     "output_type": "execute_result"
    }
   ],
   "source": [
    "sewer"
   ]
  },
  {
   "cell_type": "code",
   "execution_count": 64,
   "metadata": {},
   "outputs": [],
   "source": [
    "sewer = sewer.toarray()"
   ]
  },
  {
   "cell_type": "code",
   "execution_count": 65,
   "metadata": {},
   "outputs": [],
   "source": [
    "fuel = fuel.toarray()\n",
    "heating = heating.toarray()"
   ]
  },
  {
   "cell_type": "code",
   "execution_count": 66,
   "metadata": {},
   "outputs": [
    {
     "data": {
      "text/plain": [
       "array([[0., 0., 1.],\n",
       "       [0., 0., 1.],\n",
       "       [0., 1., 0.],\n",
       "       ...,\n",
       "       [0., 1., 0.],\n",
       "       [0., 1., 0.],\n",
       "       [0., 0., 1.]])"
      ]
     },
     "execution_count": 66,
     "metadata": {},
     "output_type": "execute_result"
    }
   ],
   "source": [
    "sewer"
   ]
  },
  {
   "cell_type": "code",
   "execution_count": 19,
   "metadata": {},
   "outputs": [],
   "source": [
    "df.drop(columns=['Unnamed: 0','heating','sewer','fuel'], inplace=True)"
   ]
  },
  {
   "cell_type": "code",
   "execution_count": 20,
   "metadata": {},
   "outputs": [
    {
     "data": {
      "text/html": [
       "<div>\n",
       "<style scoped>\n",
       "    .dataframe tbody tr th:only-of-type {\n",
       "        vertical-align: middle;\n",
       "    }\n",
       "\n",
       "    .dataframe tbody tr th {\n",
       "        vertical-align: top;\n",
       "    }\n",
       "\n",
       "    .dataframe thead th {\n",
       "        text-align: right;\n",
       "    }\n",
       "</style>\n",
       "<table border=\"1\" class=\"dataframe\">\n",
       "  <thead>\n",
       "    <tr style=\"text-align: right;\">\n",
       "      <th></th>\n",
       "      <th>price</th>\n",
       "      <th>lotSize</th>\n",
       "      <th>age</th>\n",
       "      <th>landValue</th>\n",
       "      <th>livingArea</th>\n",
       "      <th>pctCollege</th>\n",
       "      <th>bedrooms</th>\n",
       "      <th>fireplaces</th>\n",
       "      <th>bathrooms</th>\n",
       "      <th>rooms</th>\n",
       "      <th>waterfront</th>\n",
       "      <th>newConstruction</th>\n",
       "      <th>centralAir</th>\n",
       "    </tr>\n",
       "  </thead>\n",
       "  <tbody>\n",
       "    <tr>\n",
       "      <th>0</th>\n",
       "      <td>132500</td>\n",
       "      <td>0.09</td>\n",
       "      <td>42</td>\n",
       "      <td>50000</td>\n",
       "      <td>906</td>\n",
       "      <td>35</td>\n",
       "      <td>2</td>\n",
       "      <td>1</td>\n",
       "      <td>1.0</td>\n",
       "      <td>5</td>\n",
       "      <td>0</td>\n",
       "      <td>0</td>\n",
       "      <td>0</td>\n",
       "    </tr>\n",
       "    <tr>\n",
       "      <th>1</th>\n",
       "      <td>181115</td>\n",
       "      <td>0.92</td>\n",
       "      <td>0</td>\n",
       "      <td>22300</td>\n",
       "      <td>1953</td>\n",
       "      <td>51</td>\n",
       "      <td>3</td>\n",
       "      <td>0</td>\n",
       "      <td>2.5</td>\n",
       "      <td>6</td>\n",
       "      <td>0</td>\n",
       "      <td>0</td>\n",
       "      <td>0</td>\n",
       "    </tr>\n",
       "    <tr>\n",
       "      <th>2</th>\n",
       "      <td>109000</td>\n",
       "      <td>0.19</td>\n",
       "      <td>133</td>\n",
       "      <td>7300</td>\n",
       "      <td>1944</td>\n",
       "      <td>51</td>\n",
       "      <td>4</td>\n",
       "      <td>1</td>\n",
       "      <td>1.0</td>\n",
       "      <td>8</td>\n",
       "      <td>0</td>\n",
       "      <td>0</td>\n",
       "      <td>0</td>\n",
       "    </tr>\n",
       "    <tr>\n",
       "      <th>3</th>\n",
       "      <td>155000</td>\n",
       "      <td>0.41</td>\n",
       "      <td>13</td>\n",
       "      <td>18700</td>\n",
       "      <td>1944</td>\n",
       "      <td>51</td>\n",
       "      <td>3</td>\n",
       "      <td>1</td>\n",
       "      <td>1.5</td>\n",
       "      <td>5</td>\n",
       "      <td>0</td>\n",
       "      <td>0</td>\n",
       "      <td>0</td>\n",
       "    </tr>\n",
       "    <tr>\n",
       "      <th>4</th>\n",
       "      <td>86060</td>\n",
       "      <td>0.11</td>\n",
       "      <td>0</td>\n",
       "      <td>15000</td>\n",
       "      <td>840</td>\n",
       "      <td>51</td>\n",
       "      <td>2</td>\n",
       "      <td>0</td>\n",
       "      <td>1.0</td>\n",
       "      <td>3</td>\n",
       "      <td>0</td>\n",
       "      <td>1</td>\n",
       "      <td>1</td>\n",
       "    </tr>\n",
       "  </tbody>\n",
       "</table>\n",
       "</div>"
      ],
      "text/plain": [
       "    price  lotSize  age  landValue  livingArea  pctCollege  bedrooms  \\\n",
       "0  132500     0.09   42      50000         906          35         2   \n",
       "1  181115     0.92    0      22300        1953          51         3   \n",
       "2  109000     0.19  133       7300        1944          51         4   \n",
       "3  155000     0.41   13      18700        1944          51         3   \n",
       "4   86060     0.11    0      15000         840          51         2   \n",
       "\n",
       "   fireplaces  bathrooms  rooms  waterfront  newConstruction  centralAir  \n",
       "0           1        1.0      5           0                0           0  \n",
       "1           0        2.5      6           0                0           0  \n",
       "2           1        1.0      8           0                0           0  \n",
       "3           1        1.5      5           0                0           0  \n",
       "4           0        1.0      3           0                1           1  "
      ]
     },
     "execution_count": 20,
     "metadata": {},
     "output_type": "execute_result"
    }
   ],
   "source": [
    "df.head()"
   ]
  },
  {
   "cell_type": "code",
   "execution_count": 21,
   "metadata": {},
   "outputs": [],
   "source": [
    "X = df.iloc[:,1:].values\n",
    "y = df['price'].values"
   ]
  },
  {
   "cell_type": "code",
   "execution_count": 22,
   "metadata": {},
   "outputs": [],
   "source": [
    "X = np.c_[X, sewer, fuel, heating]"
   ]
  },
  {
   "cell_type": "code",
   "execution_count": 23,
   "metadata": {},
   "outputs": [
    {
     "data": {
      "text/plain": [
       "(1728, 21)"
      ]
     },
     "execution_count": 23,
     "metadata": {},
     "output_type": "execute_result"
    }
   ],
   "source": [
    "X.shape"
   ]
  },
  {
   "cell_type": "code",
   "execution_count": 24,
   "metadata": {},
   "outputs": [
    {
     "data": {
      "text/plain": [
       "array([9.00e-02, 4.20e+01, 5.00e+04, 9.06e+02, 3.50e+01, 2.00e+00,\n",
       "       1.00e+00, 1.00e+00, 5.00e+00, 0.00e+00, 0.00e+00, 0.00e+00,\n",
       "       0.00e+00, 0.00e+00, 1.00e+00, 1.00e+00, 0.00e+00, 0.00e+00,\n",
       "       1.00e+00, 0.00e+00, 0.00e+00])"
      ]
     },
     "execution_count": 24,
     "metadata": {},
     "output_type": "execute_result"
    }
   ],
   "source": [
    "X[0]"
   ]
  },
  {
   "cell_type": "code",
   "execution_count": 25,
   "metadata": {},
   "outputs": [],
   "source": [
    "minmax = MinMaxScaler()\n",
    "X = minmax.fit_transform(X)\n",
    "y = minmax.fit_transform(y.reshape(-1,1))"
   ]
  },
  {
   "cell_type": "code",
   "execution_count": 26,
   "metadata": {},
   "outputs": [
    {
     "data": {
      "text/plain": [
       "array([0.00737705, 0.18666667, 0.12075655, 0.06287944, 0.24193548,\n",
       "       0.16666667, 0.25      , 0.22222222, 0.3       , 0.        ,\n",
       "       0.        , 0.        , 0.        , 0.        , 1.        ,\n",
       "       1.        , 0.        , 0.        , 1.        , 0.        ,\n",
       "       0.        ])"
      ]
     },
     "execution_count": 26,
     "metadata": {},
     "output_type": "execute_result"
    }
   ],
   "source": [
    "X[0]"
   ]
  },
  {
   "cell_type": "code",
   "execution_count": 27,
   "metadata": {},
   "outputs": [
    {
     "data": {
      "text/plain": [
       "array([0.16558442])"
      ]
     },
     "execution_count": 27,
     "metadata": {},
     "output_type": "execute_result"
    }
   ],
   "source": [
    "y[0]"
   ]
  },
  {
   "cell_type": "code",
   "execution_count": 28,
   "metadata": {},
   "outputs": [],
   "source": [
    "x_train, x_test, y_train, y_test = train_test_split(X,y,test_size=0.25)"
   ]
  },
  {
   "cell_type": "code",
   "execution_count": 29,
   "metadata": {},
   "outputs": [
    {
     "data": {
      "text/plain": [
       "(1296, 21)"
      ]
     },
     "execution_count": 29,
     "metadata": {},
     "output_type": "execute_result"
    }
   ],
   "source": [
    "x_train.shape"
   ]
  },
  {
   "cell_type": "code",
   "execution_count": 30,
   "metadata": {},
   "outputs": [
    {
     "data": {
      "text/plain": [
       "(432, 21)"
      ]
     },
     "execution_count": 30,
     "metadata": {},
     "output_type": "execute_result"
    }
   ],
   "source": [
    "x_test.shape"
   ]
  },
  {
   "cell_type": "code",
   "execution_count": 31,
   "metadata": {},
   "outputs": [
    {
     "data": {
      "text/plain": [
       "LinearRegression(copy_X=True, fit_intercept=True, n_jobs=None, normalize=False)"
      ]
     },
     "execution_count": 31,
     "metadata": {},
     "output_type": "execute_result"
    }
   ],
   "source": [
    "regression = LinearRegression()\n",
    "regression.fit(x_train, y_train)"
   ]
  },
  {
   "cell_type": "code",
   "execution_count": 32,
   "metadata": {},
   "outputs": [
    {
     "data": {
      "text/plain": [
       "array([[ 0.13495482, -0.04205891,  0.49483185,  0.4036916 , -0.01854885,\n",
       "        -0.06317964,  0.01791926,  0.15813433,  0.03354941,  0.1605478 ,\n",
       "        -0.06678617,  0.0133743 , -0.00092716, -0.00118372,  0.00211088,\n",
       "        -0.00548705,  0.0070974 , -0.00161035,  0.00278675,  0.00508262,\n",
       "        -0.00786937]])"
      ]
     },
     "execution_count": 32,
     "metadata": {},
     "output_type": "execute_result"
    }
   ],
   "source": [
    "regression.coef_"
   ]
  },
  {
   "cell_type": "code",
   "execution_count": 33,
   "metadata": {},
   "outputs": [],
   "source": [
    "y_pred = regression.predict(x_test)"
   ]
  },
  {
   "cell_type": "code",
   "execution_count": 34,
   "metadata": {},
   "outputs": [
    {
     "data": {
      "text/plain": [
       "0.006484893572818613"
      ]
     },
     "execution_count": 34,
     "metadata": {},
     "output_type": "execute_result"
    }
   ],
   "source": [
    "mean_squared_error(y_test, y_pred)"
   ]
  },
  {
   "cell_type": "code",
   "execution_count": 35,
   "metadata": {},
   "outputs": [
    {
     "data": {
      "text/plain": [
       "0.5894625670040989"
      ]
     },
     "execution_count": 35,
     "metadata": {},
     "output_type": "execute_result"
    }
   ],
   "source": [
    "r2_score(y_test, y_pred)"
   ]
  },
  {
   "cell_type": "code",
   "execution_count": null,
   "metadata": {},
   "outputs": [],
   "source": []
  },
  {
   "cell_type": "code",
   "execution_count": 36,
   "metadata": {},
   "outputs": [
    {
     "data": {
      "text/html": [
       "<div>\n",
       "<style scoped>\n",
       "    .dataframe tbody tr th:only-of-type {\n",
       "        vertical-align: middle;\n",
       "    }\n",
       "\n",
       "    .dataframe tbody tr th {\n",
       "        vertical-align: top;\n",
       "    }\n",
       "\n",
       "    .dataframe thead th {\n",
       "        text-align: right;\n",
       "    }\n",
       "</style>\n",
       "<table border=\"1\" class=\"dataframe\">\n",
       "  <thead>\n",
       "    <tr style=\"text-align: right;\">\n",
       "      <th></th>\n",
       "      <th>price</th>\n",
       "      <th>lotSize</th>\n",
       "      <th>age</th>\n",
       "      <th>landValue</th>\n",
       "      <th>livingArea</th>\n",
       "      <th>pctCollege</th>\n",
       "      <th>bedrooms</th>\n",
       "      <th>fireplaces</th>\n",
       "      <th>bathrooms</th>\n",
       "      <th>rooms</th>\n",
       "      <th>waterfront</th>\n",
       "      <th>newConstruction</th>\n",
       "      <th>centralAir</th>\n",
       "    </tr>\n",
       "  </thead>\n",
       "  <tbody>\n",
       "    <tr>\n",
       "      <th>0</th>\n",
       "      <td>132500</td>\n",
       "      <td>0.09</td>\n",
       "      <td>42</td>\n",
       "      <td>50000</td>\n",
       "      <td>906</td>\n",
       "      <td>35</td>\n",
       "      <td>2</td>\n",
       "      <td>1</td>\n",
       "      <td>1.0</td>\n",
       "      <td>5</td>\n",
       "      <td>0</td>\n",
       "      <td>0</td>\n",
       "      <td>0</td>\n",
       "    </tr>\n",
       "    <tr>\n",
       "      <th>1</th>\n",
       "      <td>181115</td>\n",
       "      <td>0.92</td>\n",
       "      <td>0</td>\n",
       "      <td>22300</td>\n",
       "      <td>1953</td>\n",
       "      <td>51</td>\n",
       "      <td>3</td>\n",
       "      <td>0</td>\n",
       "      <td>2.5</td>\n",
       "      <td>6</td>\n",
       "      <td>0</td>\n",
       "      <td>0</td>\n",
       "      <td>0</td>\n",
       "    </tr>\n",
       "    <tr>\n",
       "      <th>2</th>\n",
       "      <td>109000</td>\n",
       "      <td>0.19</td>\n",
       "      <td>133</td>\n",
       "      <td>7300</td>\n",
       "      <td>1944</td>\n",
       "      <td>51</td>\n",
       "      <td>4</td>\n",
       "      <td>1</td>\n",
       "      <td>1.0</td>\n",
       "      <td>8</td>\n",
       "      <td>0</td>\n",
       "      <td>0</td>\n",
       "      <td>0</td>\n",
       "    </tr>\n",
       "    <tr>\n",
       "      <th>3</th>\n",
       "      <td>155000</td>\n",
       "      <td>0.41</td>\n",
       "      <td>13</td>\n",
       "      <td>18700</td>\n",
       "      <td>1944</td>\n",
       "      <td>51</td>\n",
       "      <td>3</td>\n",
       "      <td>1</td>\n",
       "      <td>1.5</td>\n",
       "      <td>5</td>\n",
       "      <td>0</td>\n",
       "      <td>0</td>\n",
       "      <td>0</td>\n",
       "    </tr>\n",
       "    <tr>\n",
       "      <th>4</th>\n",
       "      <td>86060</td>\n",
       "      <td>0.11</td>\n",
       "      <td>0</td>\n",
       "      <td>15000</td>\n",
       "      <td>840</td>\n",
       "      <td>51</td>\n",
       "      <td>2</td>\n",
       "      <td>0</td>\n",
       "      <td>1.0</td>\n",
       "      <td>3</td>\n",
       "      <td>0</td>\n",
       "      <td>1</td>\n",
       "      <td>1</td>\n",
       "    </tr>\n",
       "  </tbody>\n",
       "</table>\n",
       "</div>"
      ],
      "text/plain": [
       "    price  lotSize  age  landValue  livingArea  pctCollege  bedrooms  \\\n",
       "0  132500     0.09   42      50000         906          35         2   \n",
       "1  181115     0.92    0      22300        1953          51         3   \n",
       "2  109000     0.19  133       7300        1944          51         4   \n",
       "3  155000     0.41   13      18700        1944          51         3   \n",
       "4   86060     0.11    0      15000         840          51         2   \n",
       "\n",
       "   fireplaces  bathrooms  rooms  waterfront  newConstruction  centralAir  \n",
       "0           1        1.0      5           0                0           0  \n",
       "1           0        2.5      6           0                0           0  \n",
       "2           1        1.0      8           0                0           0  \n",
       "3           1        1.5      5           0                0           0  \n",
       "4           0        1.0      3           0                1           1  "
      ]
     },
     "execution_count": 36,
     "metadata": {},
     "output_type": "execute_result"
    }
   ],
   "source": [
    "df.head()"
   ]
  },
  {
   "cell_type": "code",
   "execution_count": 37,
   "metadata": {},
   "outputs": [],
   "source": [
    "df.insert(loc=1,column='inserted',value=df['rooms']/2)"
   ]
  },
  {
   "cell_type": "code",
   "execution_count": 38,
   "metadata": {},
   "outputs": [
    {
     "data": {
      "text/html": [
       "<div>\n",
       "<style scoped>\n",
       "    .dataframe tbody tr th:only-of-type {\n",
       "        vertical-align: middle;\n",
       "    }\n",
       "\n",
       "    .dataframe tbody tr th {\n",
       "        vertical-align: top;\n",
       "    }\n",
       "\n",
       "    .dataframe thead th {\n",
       "        text-align: right;\n",
       "    }\n",
       "</style>\n",
       "<table border=\"1\" class=\"dataframe\">\n",
       "  <thead>\n",
       "    <tr style=\"text-align: right;\">\n",
       "      <th></th>\n",
       "      <th>price</th>\n",
       "      <th>inserted</th>\n",
       "      <th>lotSize</th>\n",
       "      <th>age</th>\n",
       "      <th>landValue</th>\n",
       "      <th>livingArea</th>\n",
       "      <th>pctCollege</th>\n",
       "      <th>bedrooms</th>\n",
       "      <th>fireplaces</th>\n",
       "      <th>bathrooms</th>\n",
       "      <th>rooms</th>\n",
       "      <th>waterfront</th>\n",
       "      <th>newConstruction</th>\n",
       "      <th>centralAir</th>\n",
       "    </tr>\n",
       "  </thead>\n",
       "  <tbody>\n",
       "    <tr>\n",
       "      <th>0</th>\n",
       "      <td>132500</td>\n",
       "      <td>2.5</td>\n",
       "      <td>0.09</td>\n",
       "      <td>42</td>\n",
       "      <td>50000</td>\n",
       "      <td>906</td>\n",
       "      <td>35</td>\n",
       "      <td>2</td>\n",
       "      <td>1</td>\n",
       "      <td>1.0</td>\n",
       "      <td>5</td>\n",
       "      <td>0</td>\n",
       "      <td>0</td>\n",
       "      <td>0</td>\n",
       "    </tr>\n",
       "    <tr>\n",
       "      <th>1</th>\n",
       "      <td>181115</td>\n",
       "      <td>3.0</td>\n",
       "      <td>0.92</td>\n",
       "      <td>0</td>\n",
       "      <td>22300</td>\n",
       "      <td>1953</td>\n",
       "      <td>51</td>\n",
       "      <td>3</td>\n",
       "      <td>0</td>\n",
       "      <td>2.5</td>\n",
       "      <td>6</td>\n",
       "      <td>0</td>\n",
       "      <td>0</td>\n",
       "      <td>0</td>\n",
       "    </tr>\n",
       "    <tr>\n",
       "      <th>2</th>\n",
       "      <td>109000</td>\n",
       "      <td>4.0</td>\n",
       "      <td>0.19</td>\n",
       "      <td>133</td>\n",
       "      <td>7300</td>\n",
       "      <td>1944</td>\n",
       "      <td>51</td>\n",
       "      <td>4</td>\n",
       "      <td>1</td>\n",
       "      <td>1.0</td>\n",
       "      <td>8</td>\n",
       "      <td>0</td>\n",
       "      <td>0</td>\n",
       "      <td>0</td>\n",
       "    </tr>\n",
       "    <tr>\n",
       "      <th>3</th>\n",
       "      <td>155000</td>\n",
       "      <td>2.5</td>\n",
       "      <td>0.41</td>\n",
       "      <td>13</td>\n",
       "      <td>18700</td>\n",
       "      <td>1944</td>\n",
       "      <td>51</td>\n",
       "      <td>3</td>\n",
       "      <td>1</td>\n",
       "      <td>1.5</td>\n",
       "      <td>5</td>\n",
       "      <td>0</td>\n",
       "      <td>0</td>\n",
       "      <td>0</td>\n",
       "    </tr>\n",
       "    <tr>\n",
       "      <th>4</th>\n",
       "      <td>86060</td>\n",
       "      <td>1.5</td>\n",
       "      <td>0.11</td>\n",
       "      <td>0</td>\n",
       "      <td>15000</td>\n",
       "      <td>840</td>\n",
       "      <td>51</td>\n",
       "      <td>2</td>\n",
       "      <td>0</td>\n",
       "      <td>1.0</td>\n",
       "      <td>3</td>\n",
       "      <td>0</td>\n",
       "      <td>1</td>\n",
       "      <td>1</td>\n",
       "    </tr>\n",
       "  </tbody>\n",
       "</table>\n",
       "</div>"
      ],
      "text/plain": [
       "    price  inserted  lotSize  age  landValue  livingArea  pctCollege  \\\n",
       "0  132500       2.5     0.09   42      50000         906          35   \n",
       "1  181115       3.0     0.92    0      22300        1953          51   \n",
       "2  109000       4.0     0.19  133       7300        1944          51   \n",
       "3  155000       2.5     0.41   13      18700        1944          51   \n",
       "4   86060       1.5     0.11    0      15000         840          51   \n",
       "\n",
       "   bedrooms  fireplaces  bathrooms  rooms  waterfront  newConstruction  \\\n",
       "0         2           1        1.0      5           0                0   \n",
       "1         3           0        2.5      6           0                0   \n",
       "2         4           1        1.0      8           0                0   \n",
       "3         3           1        1.5      5           0                0   \n",
       "4         2           0        1.0      3           0                1   \n",
       "\n",
       "   centralAir  \n",
       "0           0  \n",
       "1           0  \n",
       "2           0  \n",
       "3           0  \n",
       "4           1  "
      ]
     },
     "execution_count": 38,
     "metadata": {},
     "output_type": "execute_result"
    }
   ],
   "source": [
    "df.head()"
   ]
  },
  {
   "cell_type": "code",
   "execution_count": 39,
   "metadata": {},
   "outputs": [],
   "source": [
    "# df = df.reindex(columns=['price','age'])"
   ]
  },
  {
   "cell_type": "code",
   "execution_count": 41,
   "metadata": {},
   "outputs": [
    {
     "data": {
      "text/plain": [
       "array([[137109.89788079],\n",
       "       [172494.30165819],\n",
       "       [207012.0170404 ],\n",
       "       [155391.15924935],\n",
       "       [294042.279136  ]])"
      ]
     },
     "execution_count": 41,
     "metadata": {},
     "output_type": "execute_result"
    }
   ],
   "source": [
    "minmax.inverse_transform(y_pred)[:5]"
   ]
  },
  {
   "cell_type": "code",
   "execution_count": 67,
   "metadata": {},
   "outputs": [],
   "source": [
    "newCons = 'Yes'\n",
    "waterfront = 'No'\n",
    "centralAir = 'Yes'\n",
    "sewer_test = 'septic'\n",
    "fuel_test = 'gas'\n",
    "heating_test = 'electric'"
   ]
  },
  {
   "cell_type": "code",
   "execution_count": 68,
   "metadata": {},
   "outputs": [
    {
     "data": {
      "text/plain": [
       "array([1], dtype=int64)"
      ]
     },
     "execution_count": 68,
     "metadata": {},
     "output_type": "execute_result"
    }
   ],
   "source": [
    "lab.transform([newCons])"
   ]
  },
  {
   "cell_type": "code",
   "execution_count": 69,
   "metadata": {},
   "outputs": [
    {
     "data": {
      "text/plain": [
       "array([0], dtype=int64)"
      ]
     },
     "execution_count": 69,
     "metadata": {},
     "output_type": "execute_result"
    }
   ],
   "source": [
    "lab.transform([waterfront])"
   ]
  },
  {
   "cell_type": "code",
   "execution_count": 70,
   "metadata": {},
   "outputs": [
    {
     "data": {
      "text/plain": [
       "array([1], dtype=int64)"
      ]
     },
     "execution_count": 70,
     "metadata": {},
     "output_type": "execute_result"
    }
   ],
   "source": [
    "lab.transform([centralAir])"
   ]
  },
  {
   "cell_type": "code",
   "execution_count": 72,
   "metadata": {},
   "outputs": [
    {
     "data": {
      "text/plain": [
       "array([[0., 0., 1.]])"
      ]
     },
     "execution_count": 72,
     "metadata": {},
     "output_type": "execute_result"
    }
   ],
   "source": [
    "sewer_onehot.transform([[sewer_test]]).toarray()"
   ]
  },
  {
   "cell_type": "code",
   "execution_count": 73,
   "metadata": {},
   "outputs": [
    {
     "data": {
      "text/plain": [
       "array([[0., 1., 0.]])"
      ]
     },
     "execution_count": 73,
     "metadata": {},
     "output_type": "execute_result"
    }
   ],
   "source": [
    "fuel_onehot.transform([[fuel_test]]).toarray()"
   ]
  },
  {
   "cell_type": "code",
   "execution_count": 74,
   "metadata": {},
   "outputs": [
    {
     "data": {
      "text/plain": [
       "array([[1., 0., 0.]])"
      ]
     },
     "execution_count": 74,
     "metadata": {},
     "output_type": "execute_result"
    }
   ],
   "source": [
    "heat_onehot.transform([[heating_test]]).toarray()"
   ]
  },
  {
   "cell_type": "code",
   "execution_count": null,
   "metadata": {},
   "outputs": [],
   "source": []
  }
 ],
 "metadata": {
  "kernelspec": {
   "display_name": "Python 3",
   "language": "python",
   "name": "python3"
  },
  "language_info": {
   "codemirror_mode": {
    "name": "ipython",
    "version": 3
   },
   "file_extension": ".py",
   "mimetype": "text/x-python",
   "name": "python",
   "nbconvert_exporter": "python",
   "pygments_lexer": "ipython3",
   "version": "3.7.4"
  }
 },
 "nbformat": 4,
 "nbformat_minor": 4
}
